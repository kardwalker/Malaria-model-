{
  "nbformat": 4,
  "nbformat_minor": 0,
  "metadata": {
    "colab": {
      "provenance": [],
      "authorship_tag": "ABX9TyMzvZ9OlDwFUOxDcszQHA3h",
      "include_colab_link": true
    },
    "kernelspec": {
      "name": "python3",
      "display_name": "Python 3"
    },
    "language_info": {
      "name": "python"
    }
  },
  "cells": [
    {
      "cell_type": "markdown",
      "metadata": {
        "id": "view-in-github",
        "colab_type": "text"
      },
      "source": [
        "<a href=\"https://colab.research.google.com/github/kardwalker/Malaria-model-/blob/main/Mal_model.ipynb\" target=\"_parent\"><img src=\"https://colab.research.google.com/assets/colab-badge.svg\" alt=\"Open In Colab\"/></a>"
      ]
    },
    {
      "cell_type": "code",
      "source": [
        "!ls '/content/drive/MyDrive/Mal_model.save'"
      ],
      "metadata": {
        "colab": {
          "base_uri": "https://localhost:8080/"
        },
        "id": "-reWpnqH0_yX",
        "outputId": "fcf94e04-f2f9-414e-a617-fa13841aa4ce"
      },
      "execution_count": null,
      "outputs": [
        {
          "output_type": "stream",
          "name": "stdout",
          "text": [
            "ls: cannot access '/content/drive/MyDrive/Mal_model.save': No such file or directory\n"
          ]
        }
      ]
    },
    {
      "cell_type": "code",
      "source": [
        "import numpy as np\n",
        "import seaborn as sns\n",
        "import tensorflow as tf\n",
        "import tensorflow_datasets as tfds\n",
        "from tensorflow.keras.callbacks import EarlyStopping\n",
        "from tensorflow.keras import Sequential\n",
        "from tensorflow.keras.optimizers import Adam\n",
        "from tensorflow.keras.layers import Dense ,Conv2D , InputLayer , Flatten , BatchNormalization  , Activation , AveragePooling2D , MaxPooling2D   , Dropout\n",
        "from tensorflow.keras.losses import BinaryCrossentropy\n",
        "from tensorflow.keras.regularizers import L2\n",
        "from tensorflow.keras.metrics import Accuracy , Precision , Recall\n",
        "from tensorflow.keras.callbacks import EarlyStopping , LearningRateScheduler\n",
        "import matplotlib.pyplot as plt\n"
      ],
      "metadata": {
        "id": "S9Z8su-7rNqh"
      },
      "execution_count": null,
      "outputs": []
    },
    {
      "cell_type": "markdown",
      "source": [
        "Dataset"
      ],
      "metadata": {
        "id": "1dgpS5qkrUmO"
      }
    },
    {
      "cell_type": "code",
      "source": [
        "dataset , info = tfds.load(\"malaria\" ,with_info = True , as_supervised = True , shuffle_files = True , split = [\"train\"])\n",
        "def train_val_test_split(dataset , train_ratio , val_ratio, test_ratio ):\n",
        "  size = len(dataset)\n",
        "  train_data = dataset.take(int(train_ratio*size))\n",
        "  val_data = dataset.skip(int(train_ratio*size)).take(int(val_ratio*size))\n",
        "  test_data = dataset.skip(int(train_ratio*size) + int(val_ratio*size))\n",
        "  return train_data , val_data , test_data\n",
        "\n",
        "train_ratio = 0.7 ; val_ratio = 0.1 ; test_ratio = 0.2\n",
        "train_data , val_data, test_data = train_val_test_split(dataset[0] ,train_ratio , val_ratio , test_ratio )"
      ],
      "metadata": {
        "id": "36B-2-RyrXM6"
      },
      "execution_count": null,
      "outputs": []
    },
    {
      "cell_type": "code",
      "source": [],
      "metadata": {
        "id": "zoxi1YayzzH6"
      },
      "execution_count": null,
      "outputs": []
    },
    {
      "cell_type": "code",
      "source": [
        "info"
      ],
      "metadata": {
        "colab": {
          "base_uri": "https://localhost:8080/"
        },
        "id": "Cks588ttzWUY",
        "outputId": "d4a3253a-b547-44ae-d55d-2e1ad4bedf7a"
      },
      "execution_count": null,
      "outputs": [
        {
          "output_type": "execute_result",
          "data": {
            "text/plain": [
              "tfds.core.DatasetInfo(\n",
              "    name='malaria',\n",
              "    full_name='malaria/1.0.0',\n",
              "    description=\"\"\"\n",
              "    The Malaria dataset contains a total of 27,558 cell images with equal instances\n",
              "    of parasitized and uninfected cells from the thin blood smear slide images of\n",
              "    segmented cells.\n",
              "    \"\"\",\n",
              "    homepage='https://lhncbc.nlm.nih.gov/publication/pub9932',\n",
              "    data_dir='/root/tensorflow_datasets/malaria/1.0.0',\n",
              "    file_format=tfrecord,\n",
              "    download_size=337.08 MiB,\n",
              "    dataset_size=317.62 MiB,\n",
              "    features=FeaturesDict({\n",
              "        'image': Image(shape=(None, None, 3), dtype=uint8),\n",
              "        'label': ClassLabel(shape=(), dtype=int64, num_classes=2),\n",
              "    }),\n",
              "    supervised_keys=('image', 'label'),\n",
              "    disable_shuffling=False,\n",
              "    splits={\n",
              "        'train': <SplitInfo num_examples=27558, num_shards=4>,\n",
              "    },\n",
              "    citation=\"\"\"@article{rajaraman2018pre,\n",
              "      title={Pre-trained convolutional neural networks as feature extractors toward\n",
              "      improved malaria parasite detection in thin blood smear images},\n",
              "      author={Rajaraman, Sivaramakrishnan and Antani, Sameer K and Poostchi, Mahdieh\n",
              "      and Silamut, Kamolrat and Hossain, Md A and Maude, Richard J and Jaeger,\n",
              "      Stefan and Thoma, George R},\n",
              "      journal={PeerJ},\n",
              "      volume={6},\n",
              "      pages={e4568},\n",
              "      year={2018},\n",
              "      publisher={PeerJ Inc.}\n",
              "    }\"\"\",\n",
              ")"
            ]
          },
          "metadata": {},
          "execution_count": 4
        }
      ]
    },
    {
      "cell_type": "code",
      "source": [
        "def resizie_rescale(image, label):\n",
        "  image = tf.image.resize(image, (224, 224))/255.0\n",
        "  return image, label\n",
        "\n",
        "train_dataset = train_data.map(resizie_rescale)\n",
        "val_dataset = val_data.map(resizie_rescale)\n",
        "test_dataset = test_data.map(resizie_rescale)\n",
        "\n",
        "train_dataset = train_dataset.shuffle(buffer_size = 8 , reshuffle_each_iteration=True , ).batch(32).prefetch(tf.data.AUTOTUNE)\n",
        "val_dataset = val_dataset.shuffle(buffer_size = 8 , reshuffle_each_iteration=True , ).batch(32).prefetch(tf.data.AUTOTUNE)\n",
        "print(train_dataset)\n",
        "print(val_dataset)"
      ],
      "metadata": {
        "colab": {
          "base_uri": "https://localhost:8080/"
        },
        "id": "eze9vp5drh_H",
        "outputId": "0a50b51b-98f9-4874-ee50-b63205b1c691"
      },
      "execution_count": null,
      "outputs": [
        {
          "output_type": "stream",
          "name": "stdout",
          "text": [
            "<_PrefetchDataset element_spec=(TensorSpec(shape=(None, 224, 224, 3), dtype=tf.float32, name=None), TensorSpec(shape=(None,), dtype=tf.int64, name=None))>\n",
            "<_PrefetchDataset element_spec=(TensorSpec(shape=(None, 224, 224, 3), dtype=tf.float32, name=None), TensorSpec(shape=(None,), dtype=tf.int64, name=None))>\n"
          ]
        }
      ]
    },
    {
      "cell_type": "code",
      "source": [
        "# Model architecture\n",
        "model = tf.keras.Sequential([\n",
        "    Conv2D(6, (3, 3), activation='relu', input_shape=(224, 224, 3)),\n",
        "    BatchNormalization(),\n",
        "    MaxPooling2D((2, 2)),\n",
        "    Conv2D(16, (3, 3), activation='relu'),\n",
        "    BatchNormalization(),\n",
        "    MaxPooling2D((2, 2)),\n",
        "    Conv2D(128, (3, 3), activation='relu'),\n",
        "    BatchNormalization(),\n",
        "    MaxPooling2D((2, 2)),\n",
        "    Flatten(),\n",
        "    Dense(128, activation='relu'),\n",
        "    BatchNormalization(),\n",
        "    Dropout(0.2),\n",
        "    Dense(1, activation='sigmoid')\n",
        "])"
      ],
      "metadata": {
        "id": "p2tqGHVarowL"
      },
      "execution_count": null,
      "outputs": []
    },
    {
      "cell_type": "code",
      "source": [
        "model.summary()"
      ],
      "metadata": {
        "colab": {
          "base_uri": "https://localhost:8080/"
        },
        "id": "aIA_9RS0rsYo",
        "outputId": "920044e2-430a-4882-e625-85cdbc684756"
      },
      "execution_count": null,
      "outputs": [
        {
          "output_type": "stream",
          "name": "stdout",
          "text": [
            "Model: \"sequential_1\"\n",
            "_________________________________________________________________\n",
            " Layer (type)                Output Shape              Param #   \n",
            "=================================================================\n",
            " conv2d_3 (Conv2D)           (None, 222, 222, 6)       168       \n",
            "                                                                 \n",
            " batch_normalization_4 (Bat  (None, 222, 222, 6)       24        \n",
            " chNormalization)                                                \n",
            "                                                                 \n",
            " max_pooling2d_3 (MaxPoolin  (None, 111, 111, 6)       0         \n",
            " g2D)                                                            \n",
            "                                                                 \n",
            " conv2d_4 (Conv2D)           (None, 109, 109, 16)      880       \n",
            "                                                                 \n",
            " batch_normalization_5 (Bat  (None, 109, 109, 16)      64        \n",
            " chNormalization)                                                \n",
            "                                                                 \n",
            " max_pooling2d_4 (MaxPoolin  (None, 54, 54, 16)        0         \n",
            " g2D)                                                            \n",
            "                                                                 \n",
            " conv2d_5 (Conv2D)           (None, 52, 52, 128)       18560     \n",
            "                                                                 \n",
            " batch_normalization_6 (Bat  (None, 52, 52, 128)       512       \n",
            " chNormalization)                                                \n",
            "                                                                 \n",
            " max_pooling2d_5 (MaxPoolin  (None, 26, 26, 128)       0         \n",
            " g2D)                                                            \n",
            "                                                                 \n",
            " flatten_1 (Flatten)         (None, 86528)             0         \n",
            "                                                                 \n",
            " dense_2 (Dense)             (None, 128)               11075712  \n",
            "                                                                 \n",
            " batch_normalization_7 (Bat  (None, 128)               512       \n",
            " chNormalization)                                                \n",
            "                                                                 \n",
            " dropout_1 (Dropout)         (None, 128)               0         \n",
            "                                                                 \n",
            " dense_3 (Dense)             (None, 1)                 129       \n",
            "                                                                 \n",
            "=================================================================\n",
            "Total params: 11096561 (42.33 MB)\n",
            "Trainable params: 11096005 (42.33 MB)\n",
            "Non-trainable params: 556 (2.17 KB)\n",
            "_________________________________________________________________\n"
          ]
        }
      ]
    },
    {
      "cell_type": "code",
      "source": [
        "metrics = [\n",
        "            Accuracy(name='accuracy'), Precision(name='precision'), Recall(name='recall'), ]"
      ],
      "metadata": {
        "id": "d1VmKzo7sNs9"
      },
      "execution_count": null,
      "outputs": []
    },
    {
      "cell_type": "code",
      "source": [
        "metrics = [\n",
        "             Accuracy(name = \"accuracy\") ,Precision(name='precision'), Recall(name='recall'), ]\n",
        "\n",
        "model.compile(optimizer= Adam(learning_rate = 0.01),\n",
        "              loss = BinaryCrossentropy(),\n",
        "              metrics = metrics)\n",
        "early_stopping = tf.keras.callbacks.EarlyStopping(monitor='val_loss',verbose = 1, patience=5, start_from_epoch = 3,min_delta = 0.00001  , restore_best_weights=False)\n"
      ],
      "metadata": {
        "id": "uoAEzXhssPMc"
      },
      "execution_count": null,
      "outputs": []
    },
    {
      "cell_type": "code",
      "source": [
        "def scheduler(epoch, lr):\n",
        "    if epoch < 2:\n",
        "        return lr\n",
        "    else:\n",
        "        return lr * tf.math.exp(-0.1)\n",
        "lr_schedule = LearningRateScheduler(\n",
        "    scheduler, verbose=1\n",
        ")"
      ],
      "metadata": {
        "id": "-Oy2eJDEsu5H"
      },
      "execution_count": null,
      "outputs": []
    },
    {
      "cell_type": "code",
      "source": [
        "\n",
        "hist = model.fit(train_dataset,validation_data= val_dataset,epochs=20 ,callbacks = [ lr_schedule , early_stopping],verbose =1)"
      ],
      "metadata": {
        "colab": {
          "base_uri": "https://localhost:8080/"
        },
        "id": "T5NgtLlYswxZ",
        "outputId": "b5870ed8-e410-464a-843c-b583e718e696"
      },
      "execution_count": null,
      "outputs": [
        {
          "output_type": "stream",
          "name": "stdout",
          "text": [
            "\n",
            "Epoch 1: LearningRateScheduler setting learning rate to 0.009999999776482582.\n",
            "Epoch 1/20\n",
            "268/603 [============>.................] - ETA: 11:24 - loss: 0.4940 - accuracy: 0.0000e+00 - precision: 0.7665 - recall: 0.8218"
          ]
        },
        {
          "output_type": "stream",
          "name": "stderr",
          "text": [
            "\n",
            "KeyboardInterrupt\n",
            "\n"
          ]
        }
      ]
    },
    {
      "cell_type": "code",
      "source": [
        "plt.plot(hist.history['loss'])\n",
        "plt.plot(hist.history['val_loss'])\n",
        "plt.title('model loss performace')\n",
        "plt.xlabel('epoch')\n",
        "plt.ylabel('accuracy')\n",
        "plt.show()"
      ],
      "metadata": {
        "colab": {
          "base_uri": "https://localhost:8080/",
          "height": 215
        },
        "id": "TuB6GIbUt5cA",
        "outputId": "04161c1e-7a03-40e5-8628-7f7f3371d38d"
      },
      "execution_count": null,
      "outputs": [
        {
          "output_type": "error",
          "ename": "NameError",
          "evalue": "name 'hist' is not defined",
          "traceback": [
            "\u001b[0;31m---------------------------------------------------------------------------\u001b[0m",
            "\u001b[0;31mNameError\u001b[0m                                 Traceback (most recent call last)",
            "\u001b[0;32m<ipython-input-14-9b6e702d6e3e>\u001b[0m in \u001b[0;36m<cell line: 1>\u001b[0;34m()\u001b[0m\n\u001b[0;32m----> 1\u001b[0;31m \u001b[0mplt\u001b[0m\u001b[0;34m.\u001b[0m\u001b[0mplot\u001b[0m\u001b[0;34m(\u001b[0m\u001b[0mhist\u001b[0m\u001b[0;34m.\u001b[0m\u001b[0mhistory\u001b[0m\u001b[0;34m[\u001b[0m\u001b[0;34m'loss'\u001b[0m\u001b[0;34m]\u001b[0m\u001b[0;34m)\u001b[0m\u001b[0;34m\u001b[0m\u001b[0;34m\u001b[0m\u001b[0m\n\u001b[0m\u001b[1;32m      2\u001b[0m \u001b[0mplt\u001b[0m\u001b[0;34m.\u001b[0m\u001b[0mplot\u001b[0m\u001b[0;34m(\u001b[0m\u001b[0mhist\u001b[0m\u001b[0;34m.\u001b[0m\u001b[0mhistory\u001b[0m\u001b[0;34m[\u001b[0m\u001b[0;34m'val_loss'\u001b[0m\u001b[0;34m]\u001b[0m\u001b[0;34m)\u001b[0m\u001b[0;34m\u001b[0m\u001b[0;34m\u001b[0m\u001b[0m\n\u001b[1;32m      3\u001b[0m \u001b[0mplt\u001b[0m\u001b[0;34m.\u001b[0m\u001b[0mtitle\u001b[0m\u001b[0;34m(\u001b[0m\u001b[0;34m'model loss performace'\u001b[0m\u001b[0;34m)\u001b[0m\u001b[0;34m\u001b[0m\u001b[0;34m\u001b[0m\u001b[0m\n\u001b[1;32m      4\u001b[0m \u001b[0mplt\u001b[0m\u001b[0;34m.\u001b[0m\u001b[0mxlabel\u001b[0m\u001b[0;34m(\u001b[0m\u001b[0;34m'epoch'\u001b[0m\u001b[0;34m)\u001b[0m\u001b[0;34m\u001b[0m\u001b[0;34m\u001b[0m\u001b[0m\n\u001b[1;32m      5\u001b[0m \u001b[0mplt\u001b[0m\u001b[0;34m.\u001b[0m\u001b[0mylabel\u001b[0m\u001b[0;34m(\u001b[0m\u001b[0;34m'accuracy'\u001b[0m\u001b[0;34m)\u001b[0m\u001b[0;34m\u001b[0m\u001b[0;34m\u001b[0m\u001b[0m\n",
            "\u001b[0;31mNameError\u001b[0m: name 'hist' is not defined"
          ]
        }
      ]
    },
    {
      "cell_type": "code",
      "source": [
        "test_dataset = test_dataset.batch(1)\n",
        "\n",
        "model.evaluate(test_dataset)"
      ],
      "metadata": {
        "id": "JEtDKd8Xs0ie"
      },
      "execution_count": null,
      "outputs": []
    },
    {
      "cell_type": "code",
      "source": [
        "from tensorflow.keras.preprocessing import image\n"
      ],
      "metadata": {
        "id": "epXvH6O5vsEz"
      },
      "execution_count": null,
      "outputs": []
    },
    {
      "cell_type": "code",
      "execution_count": null,
      "metadata": {
        "id": "k-QbTmRfjIvH",
        "colab": {
          "base_uri": "https://localhost:8080/"
        },
        "outputId": "3dfb9a14-f0ac-4b3c-843e-daecf81f61fc"
      },
      "outputs": [
        {
          "output_type": "stream",
          "name": "stdout",
          "text": [
            " * Serving Flask app '__main__'\n",
            " * Debug mode: on\n"
          ]
        },
        {
          "output_type": "stream",
          "name": "stderr",
          "text": [
            "INFO:werkzeug:\u001b[31m\u001b[1mWARNING: This is a development server. Do not use it in a production deployment. Use a production WSGI server instead.\u001b[0m\n",
            " * Running on http://127.0.0.1:5000\n",
            "INFO:werkzeug:\u001b[33mPress CTRL+C to quit\u001b[0m\n",
            "INFO:werkzeug: * Restarting with stat\n"
          ]
        }
      ],
      "source": [
        "from flask import Flask, request, render_template\n",
        "\n",
        "import numpy as np\n",
        "import os\n",
        "\n",
        "app = Flask(__name__)\n",
        "#model = load_model(\"path/to/your/mal_model\")  # Update the path\n",
        "\n",
        "def prepare_image(img_path):\n",
        "    img = image.load_img(img_path, target_size=(224, 224))\n",
        "    img_array = image.img_to_array(img)\n",
        "    img_array = np.expand_dims(img_array, axis=0)\n",
        "    img_array = img_array / 255.0\n",
        "    return img_array\n",
        "\n",
        "@app.route(\"/\", methods=[\"GET\", \"POST\"])\n",
        "def predict():\n",
        "    if request.method == \"POST\":\n",
        "        if 'file' not in request.files:\n",
        "            return \"No file part\"\n",
        "        file = request.files['file']\n",
        "        if file.filename == '':\n",
        "            return \"No selected file\"\n",
        "        if file:\n",
        "            file_path = os.path.join(\"uploads\", file.filename)\n",
        "            file.save(file_path)\n",
        "            img_array = prepare_image(file_path)\n",
        "            prediction = model.predict(img_array)\n",
        "            if prediction[0][0] > 0.5:\n",
        "                result = \"Infected with Malaria\"\n",
        "            else:\n",
        "                result = \"Not Infected with Malaria\"\n",
        "            return result\n",
        "    return '''\n",
        "    <!doctype html>\n",
        "    <title>Upload an Image</title>\n",
        "    <h1>Upload an Image of Blood Cell</h1>\n",
        "    <form method=post enctype=multipart/form-data>\n",
        "      <input type=file name=file>\n",
        "      <input type=submit value=Upload>\n",
        "    </form>\n",
        "    '''\n",
        "\n",
        "if __name__ == \"__main__\":\n",
        "    app.run(debug=True)\n"
      ]
    }
  ]
}